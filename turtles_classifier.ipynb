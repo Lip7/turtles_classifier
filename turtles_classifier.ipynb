{
 "cells": [
  {
   "cell_type": "code",
   "execution_count": 6,
   "id": "24cf7136-6842-4540-98ee-669050e87aa6",
   "metadata": {
    "execution": {
     "iopub.execute_input": "2022-06-28T20:04:09.031757Z",
     "iopub.status.busy": "2022-06-28T20:04:09.030907Z",
     "iopub.status.idle": "2022-06-28T20:04:09.035308Z",
     "shell.execute_reply": "2022-06-28T20:04:09.034762Z",
     "shell.execute_reply.started": "2022-06-28T20:04:09.031729Z"
    }
   },
   "outputs": [],
   "source": [
    "from fastai.vision.all import *\n",
    "from fastai.vision.widgets import *\n",
    "from ipywidgets import *"
   ]
  },
  {
   "cell_type": "code",
   "execution_count": 2,
   "id": "23d00066-ee95-4753-a6e3-636330a67753",
   "metadata": {
    "execution": {
     "iopub.execute_input": "2022-06-28T20:01:35.359951Z",
     "iopub.status.busy": "2022-06-28T20:01:35.359426Z",
     "iopub.status.idle": "2022-06-28T20:01:35.457272Z",
     "shell.execute_reply": "2022-06-28T20:01:35.456377Z",
     "shell.execute_reply.started": "2022-06-28T20:01:35.359922Z"
    }
   },
   "outputs": [],
   "source": [
    "path = Path()\n",
    "learn_inf = load_learner(path/'export.pkl', cpu=True)\n",
    "btn_upload = widgets.FileUpload()\n",
    "out_pl = widgets.Output()\n",
    "lbl_pred = widgets.Label()"
   ]
  },
  {
   "cell_type": "code",
   "execution_count": 3,
   "id": "ad275783-6dbf-45f1-9b61-40672868452e",
   "metadata": {
    "execution": {
     "iopub.execute_input": "2022-06-28T20:01:48.917127Z",
     "iopub.status.busy": "2022-06-28T20:01:48.916202Z",
     "iopub.status.idle": "2022-06-28T20:01:48.921292Z",
     "shell.execute_reply": "2022-06-28T20:01:48.920669Z",
     "shell.execute_reply.started": "2022-06-28T20:01:48.917097Z"
    }
   },
   "outputs": [],
   "source": [
    "def on_data_change(change):\n",
    "    lbl_pred.value = ''\n",
    "    img = PILImage.create(btn_upload.data[-1])\n",
    "    out_pl.clear_output()\n",
    "    with out_pl: display(img.to_thumb(128,128))\n",
    "    pred,pred_idx,probs = learn_inf.predict(img)\n",
    "    lbl_pred.value = f'Prediction: {pred}; Probability: {probs[pred_idx]:.04f}'"
   ]
  },
  {
   "cell_type": "code",
   "execution_count": 4,
   "id": "6687c0f3-544a-496f-844d-fe22aa87d6f3",
   "metadata": {
    "execution": {
     "iopub.execute_input": "2022-06-28T20:01:54.318877Z",
     "iopub.status.busy": "2022-06-28T20:01:54.317910Z",
     "iopub.status.idle": "2022-06-28T20:01:54.322593Z",
     "shell.execute_reply": "2022-06-28T20:01:54.321939Z",
     "shell.execute_reply.started": "2022-06-28T20:01:54.318847Z"
    }
   },
   "outputs": [],
   "source": [
    "btn_upload.observe(on_data_change, names=['data'])"
   ]
  },
  {
   "cell_type": "code",
   "execution_count": 8,
   "id": "da0a5ab3-f236-4302-98bd-461f0565813e",
   "metadata": {
    "execution": {
     "iopub.execute_input": "2022-06-28T20:04:17.974884Z",
     "iopub.status.busy": "2022-06-28T20:04:17.974113Z",
     "iopub.status.idle": "2022-06-28T20:04:17.994566Z",
     "shell.execute_reply": "2022-06-28T20:04:17.994034Z",
     "shell.execute_reply.started": "2022-06-28T20:04:17.974856Z"
    }
   },
   "outputs": [
    {
     "data": {
      "application/vnd.jupyter.widget-view+json": {
       "model_id": "206651d9ee234632a91af5bb8c725a5f",
       "version_major": 2,
       "version_minor": 0
      },
      "text/plain": [
       "VBox(children=(Label(value='Upload turtle picture!'), FileUpload(value={}, description='Upload'), Output(), La…"
      ]
     },
     "metadata": {},
     "output_type": "display_data"
    }
   ],
   "source": [
    "display(VBox([widgets.Label('Upload turtle picture!'), btn_upload, out_pl, lbl_pred]))"
   ]
  },
  {
   "cell_type": "code",
   "execution_count": null,
   "id": "33aa17b8-789e-4ef3-a8e1-01c0832bf6a2",
   "metadata": {},
   "outputs": [],
   "source": []
  }
 ],
 "metadata": {
  "kernelspec": {
   "display_name": "Python 3 (ipykernel)",
   "language": "python",
   "name": "python3"
  },
  "language_info": {
   "codemirror_mode": {
    "name": "ipython",
    "version": 3
   },
   "file_extension": ".py",
   "mimetype": "text/x-python",
   "name": "python",
   "nbconvert_exporter": "python",
   "pygments_lexer": "ipython3",
   "version": "3.7.11"
  }
 },
 "nbformat": 4,
 "nbformat_minor": 5
}
